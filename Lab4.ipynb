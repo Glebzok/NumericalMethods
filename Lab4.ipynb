{
 "cells": [
  {
   "cell_type": "code",
   "execution_count": 1,
   "metadata": {},
   "outputs": [
    {
     "data": {
      "text/plain": [
       "24"
      ]
     },
     "execution_count": 1,
     "metadata": {},
     "output_type": "execute_result"
    }
   ],
   "source": [
    "import numpy as np\n",
    "import scipy.linalg as sp\n",
    "import matplotlib.pyplot as plt\n",
    "\n",
    "вариант = len('МезенцевГлебВладимирович')%30\n",
    "вариант"
   ]
  },
  {
   "cell_type": "markdown",
   "metadata": {},
   "source": [
    "![](img/4_0.png)\n",
    "![](img/4_1.png)"
   ]
  },
  {
   "cell_type": "markdown",
   "metadata": {},
   "source": [
    "## Задание 4.1 (4.1.24)\n",
    "![](img/4_2.png)\n",
    "![](img/4_3.png)\n",
    "![](img/4_4.png)"
   ]
  },
  {
   "cell_type": "markdown",
   "metadata": {},
   "source": [
    "## Задаём условие"
   ]
  },
  {
   "cell_type": "code",
   "execution_count": 2,
   "metadata": {},
   "outputs": [],
   "source": [
    "A = np.array([[118.8, -14, -5, -89.1],\n",
    "              [-14.85, -20, -5, 0],\n",
    "              [297, 16, 320, 0],\n",
    "              [0, 6, -30, -36.3]])\n",
    "b = np.array([943, -80.7, 2602.8, 1.1])"
   ]
  },
  {
   "cell_type": "markdown",
   "metadata": {},
   "source": [
    "## Решаем систему Ax=b с помошью метода Гаусса (np.linalg.solve)"
   ]
  },
  {
   "cell_type": "code",
   "execution_count": 3,
   "metadata": {},
   "outputs": [
    {
     "data": {
      "text/plain": [
       "array([ 6.23545277, -1.19639624,  2.40629021, -2.21672407])"
      ]
     },
     "execution_count": 3,
     "metadata": {},
     "output_type": "execute_result"
    }
   ],
   "source": [
    "x = np.linalg.solve(A,b)\n",
    "x"
   ]
  },
  {
   "cell_type": "markdown",
   "metadata": {},
   "source": [
    "## Приводим Ax-b к виду x-Bx+c "
   ]
  },
  {
   "cell_type": "code",
   "execution_count": 4,
   "metadata": {},
   "outputs": [],
   "source": [
    "d = np.diag(A)\n",
    "B = 1/d.reshape((-1,1))*(A-np.diag(d))\n",
    "c = b/d"
   ]
  },
  {
   "cell_type": "code",
   "execution_count": 5,
   "metadata": {},
   "outputs": [
    {
     "data": {
      "text/plain": [
       "True"
      ]
     },
     "execution_count": 5,
     "metadata": {},
     "output_type": "execute_result"
    }
   ],
   "source": [
    "np.allclose(x, c-np.dot(B,x))"
   ]
  },
  {
   "cell_type": "markdown",
   "metadata": {},
   "source": [
    "## Проверим достаточное условие сходимости методов Якоби и Зейделя\n",
    "## ||B|| < 1"
   ]
  },
  {
   "cell_type": "code",
   "execution_count": 6,
   "metadata": {},
   "outputs": [
    {
     "name": "stdout",
     "output_type": "stream",
     "text": [
      "||B|| =  0.9925\n"
     ]
    }
   ],
   "source": [
    "print('||B|| = ', np.linalg.norm(B, ord=np.inf))"
   ]
  },
  {
   "cell_type": "markdown",
   "metadata": {},
   "source": [
    "## Задаём начальное приближение"
   ]
  },
  {
   "cell_type": "code",
   "execution_count": 7,
   "metadata": {},
   "outputs": [],
   "source": [
    "x0 = [1,-1,1,-1]"
   ]
  },
  {
   "cell_type": "markdown",
   "metadata": {},
   "source": [
    "## Метод Якоби"
   ]
  },
  {
   "cell_type": "code",
   "execution_count": 8,
   "metadata": {},
   "outputs": [],
   "source": [
    "def Jacobi(x0, B, c, maxiter = 1000, eps = 1e-9):\n",
    "    norm = np.linalg.norm(B, ord = np.inf)\n",
    "    eps = eps*(1-norm)/norm\n",
    "    for i in range(maxiter):\n",
    "        x = c - np.dot(B,x0)\n",
    "        if np.linalg.norm(x-x0, ord = np.inf) < eps:\n",
    "            return x, i\n",
    "        else:\n",
    "            x0 = np.copy(x)\n",
    "    return x, maxiter"
   ]
  },
  {
   "cell_type": "code",
   "execution_count": 9,
   "metadata": {},
   "outputs": [
    {
     "name": "stdout",
     "output_type": "stream",
     "text": [
      "Количество итераций до сходимости:  142\n"
     ]
    }
   ],
   "source": [
    "res_jac = Jacobi(x0, B, c)\n",
    "print('Количество итераций до сходимости: ',res_jac[1])"
   ]
  },
  {
   "cell_type": "markdown",
   "metadata": {},
   "source": [
    "## Test"
   ]
  },
  {
   "cell_type": "code",
   "execution_count": 10,
   "metadata": {},
   "outputs": [
    {
     "data": {
      "text/plain": [
       "True"
      ]
     },
     "execution_count": 10,
     "metadata": {},
     "output_type": "execute_result"
    }
   ],
   "source": [
    "np.allclose(res_jac[0], x)"
   ]
  },
  {
   "cell_type": "markdown",
   "metadata": {},
   "source": [
    "## Приводим Ax-b к виду x-Bx+c удобному для метода Зейделя"
   ]
  },
  {
   "cell_type": "code",
   "execution_count": 11,
   "metadata": {},
   "outputs": [],
   "source": [
    "C = sp.solve_triangular(np.tril(A), np.eye(A.shape[0], A.shape[1]), lower=True)\n",
    "B = np.dot(C, np.triu(A, 1))\n",
    "c = np.dot(C, b)"
   ]
  },
  {
   "cell_type": "code",
   "execution_count": 12,
   "metadata": {},
   "outputs": [
    {
     "data": {
      "text/plain": [
       "True"
      ]
     },
     "execution_count": 12,
     "metadata": {},
     "output_type": "execute_result"
    }
   ],
   "source": [
    "np.allclose(x, c-np.dot(B,x))"
   ]
  },
  {
   "cell_type": "markdown",
   "metadata": {},
   "source": [
    "## Метод Зейделя"
   ]
  },
  {
   "cell_type": "code",
   "execution_count": 13,
   "metadata": {},
   "outputs": [],
   "source": [
    "def Seidel(x0, B, c, maxiter = 1000, eps = 1e-9):\n",
    "    for i in range(maxiter):\n",
    "        x = c - np.dot(B, x0)\n",
    "        if np.linalg.norm(x-x0, ord = np.inf) < eps:\n",
    "            return x, i\n",
    "        else:\n",
    "            x0 = np.copy(x)\n",
    "    return x, maxiter        "
   ]
  },
  {
   "cell_type": "code",
   "execution_count": 14,
   "metadata": {},
   "outputs": [
    {
     "name": "stdout",
     "output_type": "stream",
     "text": [
      "Количество итераций до сходимости:  28\n"
     ]
    }
   ],
   "source": [
    "res_sei = Seidel(x0, B, c)\n",
    "print('Количество итераций до сходимости: ',res_sei[1])"
   ]
  },
  {
   "cell_type": "markdown",
   "metadata": {},
   "source": [
    "## Test"
   ]
  },
  {
   "cell_type": "code",
   "execution_count": 15,
   "metadata": {},
   "outputs": [
    {
     "data": {
      "text/plain": [
       "True"
      ]
     },
     "execution_count": 15,
     "metadata": {},
     "output_type": "execute_result"
    }
   ],
   "source": [
    "np.allclose(res_sei[0], x)"
   ]
  },
  {
   "cell_type": "markdown",
   "metadata": {},
   "source": [
    "### Измеряем абсолютные погрешности итерационных решений для различных начальных приближений"
   ]
  },
  {
   "cell_type": "code",
   "execution_count": 16,
   "metadata": {},
   "outputs": [
    {
     "name": "stdout",
     "output_type": "stream",
     "text": [
      "Абсолютная погрешность итеративного решения: 0.002\n",
      "Абсолютная погрешность итеративного решения: 0.003\n",
      "Абсолютная погрешность итеративного решения: 0.005\n",
      "Абсолютная погрешность итеративного решения: 0.003\n",
      "Абсолютная погрешность итеративного решения: 0.004\n",
      "Абсолютная погрешность итеративного решения: 0.002\n",
      "Абсолютная погрешность итеративного решения: 0.002\n",
      "Абсолютная погрешность итеративного решения: 0.001\n",
      "Абсолютная погрешность итеративного решения: 0.002\n",
      "Абсолютная погрешность итеративного решения: 0.003\n"
     ]
    }
   ],
   "source": [
    "for x0 in np.random.randint(-10, 10, (10,4)):\n",
    "    x_it, n_iter = Seidel(x0, B, c, maxiter = 10)\n",
    "    print('Абсолютная погрешность итеративного решения: %.3f' %np.linalg.norm(x-x_it, ord = np.inf))"
   ]
  },
  {
   "cell_type": "markdown",
   "metadata": {},
   "source": [
    "### Скорость сходимости метода Зейделя, как, впрочем, и метода Якоби зависит от близости начального приближения к истинному ответу, поэтому для разных начальных приближений при ограничении на количество итераций мы получаем различные величины абсолютных погрешностей решений"
   ]
  },
  {
   "cell_type": "markdown",
   "metadata": {},
   "source": [
    "## Задание 4.2\n",
    "![](img/4_5.png)"
   ]
  },
  {
   "cell_type": "code",
   "execution_count": 17,
   "metadata": {},
   "outputs": [
    {
     "name": "stdout",
     "output_type": "stream",
     "text": [
      "Количество итераций до сходимости:  20\n",
      "Абсолютная погрешность решения: 8.179466446378569e-07\n"
     ]
    }
   ],
   "source": [
    "res_sei = Seidel(x0, B, c, eps=1e-6)\n",
    "print('Количество итераций до сходимости: ',res_sei[1])\n",
    "print('Абсолютная погрешность решения:', np.linalg.norm(x-res_sei[0], ord = np.inf))"
   ]
  },
  {
   "cell_type": "markdown",
   "metadata": {},
   "source": [
    "## Задание 4.4 (4.4.12)\n",
    "![](img/4_6.png)\n",
    "![](img/4_7.png)\n",
    "![](img/4_8.png)"
   ]
  },
  {
   "cell_type": "markdown",
   "metadata": {},
   "source": [
    "## Задаём условие"
   ]
  },
  {
   "cell_type": "code",
   "execution_count": 18,
   "metadata": {},
   "outputs": [],
   "source": [
    "def B(t):\n",
    "    return np.array([[-0.2, 0.15, 0.1, 0.3],\n",
    "                     [0.1, 0.11, 0.4, np.sin(5*t)],\n",
    "                     [0.3, 0.1, 0.2, 0.1],\n",
    "                     [0.2, -0.12, 0.1, np.sin(t)]])\n",
    "\n",
    "c = np.array([0, 1, 2, 3])\n",
    "t_grid = np.arange(-1, 1.1, 0.2)"
   ]
  },
  {
   "cell_type": "markdown",
   "metadata": {},
   "source": [
    "### Построим график"
   ]
  },
  {
   "cell_type": "code",
   "execution_count": 19,
   "metadata": {
    "scrolled": false
   },
   "outputs": [
    {
     "data": {
      "image/png": "[encoded data removed]",
      "text/plain": [
       "<Figure size 1440x720 with 1 Axes>"
      ]
     },
     "metadata": {
      "needs_background": "light"
     },
     "output_type": "display_data"
    }
   ],
   "source": [
    "norm_grid = [np.linalg.norm(B(t), ord = np.inf) for t in t_grid]\n",
    "plt.figure(figsize=(20,10))\n",
    "plt.plot(t_grid, norm_grid)\n",
    "plt.scatter(t_grid, norm_grid, c = 'r')\n",
    "plt.plot(t_grid, np.ones(t_grid.shape), ls = '--')\n",
    "plt.grid()\n",
    "plt.xlabel('t')\n",
    "plt.ylabel('||B(t)||');"
   ]
  },
  {
   "cell_type": "markdown",
   "metadata": {},
   "source": [
    "### По графику видно, что достаточное условие сходимости выполнено для t = {-0.6, 0, 0.6}"
   ]
  },
  {
   "cell_type": "code",
   "execution_count": 20,
   "metadata": {},
   "outputs": [],
   "source": [
    "t_max = t_grid[np.where(np.array(norm_grid)<1)[0]][-1]"
   ]
  },
  {
   "cell_type": "code",
   "execution_count": 21,
   "metadata": {},
   "outputs": [
    {
     "name": "stdout",
     "output_type": "stream",
     "text": [
      "Количество итераций до сходимости:  30\n"
     ]
    }
   ],
   "source": [
    "res_sei = Seidel(np.random.rand(c.shape[0]), -B(t_max), c, eps = 1e-5)\n",
    "print('Количество итераций до сходимости: ',res_sei[1])"
   ]
  },
  {
   "cell_type": "code",
   "execution_count": 22,
   "metadata": {},
   "outputs": [
    {
     "data": {
      "text/plain": [
       "array([3.12090633, 5.15890587, 5.33109187, 8.12715206])"
      ]
     },
     "execution_count": 22,
     "metadata": {},
     "output_type": "execute_result"
    }
   ],
   "source": [
    "res_sei[0]"
   ]
  },
  {
   "cell_type": "code",
   "execution_count": 23,
   "metadata": {},
   "outputs": [
    {
     "data": {
      "text/plain": [
       "True"
      ]
     },
     "execution_count": 23,
     "metadata": {},
     "output_type": "execute_result"
    }
   ],
   "source": [
    "np.allclose(res_sei[0], np.dot(B(t_max), res_sei[0]) + c)"
   ]
  },
  {
   "cell_type": "markdown",
   "metadata": {},
   "source": [
    "## Задание 4.6 (4.6.6)\n",
    "![](img/4_9.png)\n",
    "![](img/4_10.png)\n",
    "![](img/4_11.png)"
   ]
  },
  {
   "cell_type": "markdown",
   "metadata": {},
   "source": [
    "## Задаём условие"
   ]
  },
  {
   "cell_type": "code",
   "execution_count": 24,
   "metadata": {},
   "outputs": [],
   "source": [
    "n = 50\n",
    "d = 114 * np.ones(n)\n",
    "ud = 31 * np.ones(n-2)\n",
    "uud = 2 * np.ones(n-3)\n",
    "b = np.arange(1, n+1) * np.exp(18/np.arange(1, n+1))"
   ]
  },
  {
   "cell_type": "markdown",
   "metadata": {},
   "source": [
    "### Метод Зейеделя без хранения матриц"
   ]
  },
  {
   "cell_type": "code",
   "execution_count": 25,
   "metadata": {},
   "outputs": [],
   "source": [
    "def Seidel_vec(x0, d, ud, uud, b, maxiter = 1000, eps = 1e-9):\n",
    "    c = b / d\n",
    "    ud = - ud / d[:ud.shape[0]]\n",
    "    uud = - uud / d[:uud.shape[0]]\n",
    "    for i in range(maxiter):\n",
    "        x = ud[:n-3] * x0[2:n-1] + uud[:n-3] * x0[3:n]\n",
    "        x = np.append(x, ud[n-3]*x0[-1])\n",
    "        x = np.append(x, np.zeros(2))\n",
    "        x += c\n",
    "        if np.linalg.norm(x-x0, ord = np.inf) < eps:\n",
    "            return x, i\n",
    "        else:\n",
    "            x0 = np.copy(x)\n",
    "    return x, maxiter  "
   ]
  },
  {
   "cell_type": "code",
   "execution_count": 26,
   "metadata": {},
   "outputs": [
    {
     "name": "stdout",
     "output_type": "stream",
     "text": [
      "Количество итераций до сходимости:  17\n"
     ]
    }
   ],
   "source": [
    "sei_res = Seidel_vec(np.random.rand(b.shape[0]), d, ud, uud, b)\n",
    "print('Количество итераций до сходимости: ',sei_res[1])"
   ]
  },
  {
   "cell_type": "markdown",
   "metadata": {},
   "source": [
    "### Решим то же уровнение в лоб"
   ]
  },
  {
   "cell_type": "markdown",
   "metadata": {},
   "source": [
    "### Явно сформируем матрицу А"
   ]
  },
  {
   "cell_type": "code",
   "execution_count": 28,
   "metadata": {},
   "outputs": [
    {
     "data": {
      "text/plain": [
       "array([[114.,   0.,  31., ...,   0.,   0.,   0.],\n",
       "       [  0., 114.,   0., ...,   0.,   0.,   0.],\n",
       "       [  0.,   0., 114., ...,   0.,   0.,   0.],\n",
       "       ...,\n",
       "       [  0.,   0.,   0., ..., 114.,   0.,  31.],\n",
       "       [  0.,   0.,   0., ...,   0., 114.,   0.],\n",
       "       [  0.,   0.,   0., ...,   0.,   0., 114.]])"
      ]
     },
     "execution_count": 28,
     "metadata": {},
     "output_type": "execute_result"
    }
   ],
   "source": [
    "A = np.diag(d) + np. diag(ud, 2) + np.diag(uud, 3)\n",
    "A"
   ]
  },
  {
   "cell_type": "markdown",
   "metadata": {},
   "source": [
    "### Решим систему с помощью метода Гаусса"
   ]
  },
  {
   "cell_type": "code",
   "execution_count": 29,
   "metadata": {},
   "outputs": [],
   "source": [
    "gau_res = np.linalg.solve(A, b)"
   ]
  },
  {
   "cell_type": "markdown",
   "metadata": {},
   "source": [
    "### Проверим верность полученного ответа"
   ]
  },
  {
   "cell_type": "code",
   "execution_count": 30,
   "metadata": {},
   "outputs": [
    {
     "data": {
      "text/plain": [
       "True"
      ]
     },
     "execution_count": 30,
     "metadata": {},
     "output_type": "execute_result"
    }
   ],
   "source": [
    "np.allclose(sei_res[0], gau_res)"
   ]
  },
  {
   "cell_type": "markdown",
   "metadata": {},
   "source": [
    "### Всё верно"
   ]
  }
 ],
 "metadata": {
  "kernelspec": {
   "display_name": "Python 3",
   "language": "python",
   "name": "python3"
  },
  "language_info": {
   "codemirror_mode": {
    "name": "ipython",
    "version": 3
   },
   "file_extension": ".py",
   "mimetype": "text/x-python",
   "name": "python",
   "nbconvert_exporter": "python",
   "pygments_lexer": "ipython3",
   "version": "3.6.7"
  }
 },
 "nbformat": 4,
 "nbformat_minor": 2
}
