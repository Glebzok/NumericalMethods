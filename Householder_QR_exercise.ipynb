{
 "cells": [
  {
   "cell_type": "code",
   "execution_count": 1,
   "metadata": {},
   "outputs": [],
   "source": [
    "import numpy as np\n",
    "\n",
    "from numpy.testing import assert_allclose"
   ]
  },
  {
   "cell_type": "markdown",
   "metadata": {},
   "source": [
    "# Part I. Construct a Householder reflection of a vector."
   ]
  },
  {
   "cell_type": "markdown",
   "metadata": {},
   "source": [
    "Given a vector $\\mathbf{x}$, and a plane with a normal vector $\\mathbf{u}$, the Householder transformation reflects $\\mathbf{x}$ about the plane.\n",
    "\n",
    "The matrix of the Householder transformation is\n",
    "\n",
    "$$\n",
    "\\mathbf{H} = \\mathbf{1} - 2 \\mathbf{u} \\mathbf{u}^T\n",
    "$$\n",
    "\n",
    "Given two equal-length vectors $\\mathbf{x}$ and $\\mathbf{y}$, a rotation which brings $\\mathbf{x}$ to $\\mathbf{y}$ is a Householder transform with\n",
    "\n",
    "$$\n",
    "\\mathbf{u} = \\frac{\\mathbf{x} - \\mathbf{y}}{||\\mathbf{x} - \\mathbf{y}||}\n",
    "$$"
   ]
  },
  {
   "cell_type": "code",
   "execution_count": 2,
   "metadata": {},
   "outputs": [],
   "source": [
    "def householder(vec):\n",
    "    \"\"\"Construct a Householder reflection to zero out 2nd and further components of a vector.\n",
    "\n",
    "    Parameters\n",
    "    ----------\n",
    "    vec : array-like of floats, shape (n,)\n",
    "        Input vector\n",
    "    \n",
    "    Returns\n",
    "    -------\n",
    "    outvec : array of floats, shape (n,)\n",
    "        Transformed vector, with ``outvec[1:]==0`` and ``|outvec| == |vec|``\n",
    "    normalvec: array of float, shape (n,)\n",
    "        Householder tranformation reflection plane' normal vector\n",
    "    H : array of floats, shape (n, n)\n",
    "        Orthogonal matrix of the Householder reflection\n",
    "    \"\"\"\n",
    "    vec = np.asarray(vec, dtype=float)\n",
    "    if vec.ndim != 1:\n",
    "        raise ValueError(\"vec.ndim = %s, expected 1\" % vec.ndim)\n",
    "    outvec = np.zeros(vec.shape)\n",
    "    \n",
    "    outvec[0] = np.linalg.norm(vec)\n",
    "    normalvec = (vec-outvec)/np.linalg.norm(vec-outvec)\n",
    "    H = np.eye(normalvec.shape[0], normalvec.shape[0])-2*np.outer(normalvec, normalvec)\n",
    "    return outvec, normalvec, H"
   ]
  },
  {
   "cell_type": "code",
   "execution_count": 3,
   "metadata": {},
   "outputs": [],
   "source": [
    "# Test (marked)\n",
    "\n",
    "v = np.array([1, 2, 3])\n",
    "v1, _, h = householder(v)\n",
    "\n",
    "assert_allclose(np.dot(h, v1), v, atol=1e-10)\n",
    "assert_allclose(np.dot(h, v), v1, atol=1e-10)"
   ]
  },
  {
   "cell_type": "code",
   "execution_count": 4,
   "metadata": {},
   "outputs": [],
   "source": [
    "rndm = np.random.RandomState(1234)\n",
    "\n",
    "vec = rndm.uniform(size=7)\n",
    "v1, _, h = householder(vec)\n",
    "\n",
    "assert_allclose(np.dot(h, v1), vec)"
   ]
  },
  {
   "cell_type": "markdown",
   "metadata": {},
   "source": [
    "# Part II. Compute the QR decomposition of a matrix.\n",
    "\n",
    "Given a rectangular $m\\times n$ matrix $\\mathbf{A}$, construct a Householder reflector matrix $\\mathbf{H}_1$ which transforms the first column of $\\mathbf{A}$ (and call the result $\\mathbf{A}^{(1)}$)\n",
    "\n",
    "$$\n",
    "\\mathbf{H}_1 \\mathbf{A} =%\n",
    "\\begin{pmatrix}\n",
    "\\times & \\times & \\times & \\dots & \\times \\\\\n",
    "0      & \\times & \\times & \\dots & \\times \\\\\n",
    "0      & \\times & \\times & \\dots & \\times \\\\\n",
    "&& \\dots&& \\\\\n",
    "0      & \\times & \\times & \\dots & \\times \\\\\n",
    "\\end{pmatrix}%\n",
    "\\equiv \\mathbf{A}^{(1)}\\;.\n",
    "$$\n",
    "\n",
    "Now consider the lower-right submatrix of $\\mathbf{A}^{(1)}$, and construct a Householder reflector which annihilates the second column of $\\mathbf{A}$:\n",
    "\n",
    "$$\n",
    "\\mathbf{H}_2 \\mathbf{A}^{(1)} =%\n",
    "\\begin{pmatrix}\n",
    "\\times & \\times & \\times & \\dots & \\times \\\\\n",
    "0      & \\times & \\times & \\dots & \\times \\\\\n",
    "0      & 0      & \\times & \\dots & \\times \\\\\n",
    "&& \\dots&& \\\\\n",
    "0      & 0      & \\times & \\dots & \\times \\\\\n",
    "\\end{pmatrix}%\n",
    "\\equiv \\mathbf{A}^{(2)} \\;.\n",
    "$$\n",
    "\n",
    "Repeating the process $n-1$ times, we obtain\n",
    "\n",
    "$$\n",
    "\\mathbf{H}_{n-1} \\cdots \\mathbf{H}_2 \\mathbf{H}_1 \\mathbf{A} = \\mathbf{R} \\;,\n",
    "$$\n",
    "\n",
    "with $\\mathbf{R}$ an upper triangular matrix. Since each $\\mathbf{H}_k$ is orthogonal, so is their product. The inverse of an orthogonal matrix is orthogonal. Hence the process generates the $QR$ decomposition of $\\mathbf{A}$. "
   ]
  },
  {
   "cell_type": "code",
   "execution_count": 5,
   "metadata": {},
   "outputs": [],
   "source": [
    "def qr_decomp(a):\n",
    "    \"\"\"Compute the QR decomposition of a matrix.\n",
    "    \n",
    "    Parameters\n",
    "    ----------\n",
    "    a : ndarray, shape(m, n)\n",
    "        The input matrix\n",
    "    \n",
    "    Returns\n",
    "    -------\n",
    "    q : ndarray, shape(m, m)\n",
    "        The orthogonal matrix\n",
    "    r : ndarray, shape(m, n)\n",
    "        The upper triangular matrix\n",
    "        \n",
    "    Examples\n",
    "    --------\n",
    "    >>> a = np.random.random(size=(3, 5))\n",
    "    >>> q, r = qr_decomp(a)\n",
    "    >>> np.assert_allclose(np.dot(q, r), a)\n",
    "    \n",
    "    \"\"\"\n",
    "    r = np.array(a, copy=True, dtype=float)\n",
    "    m, n = r.shape\n",
    "    q = np.eye(m,m)\n",
    "    \n",
    "    for i in range(min(n,m)-1):\n",
    "        _, _, h = householder(r[i:,i])\n",
    "        eye = np.eye(m,m)\n",
    "        eye[i:,i:]=h\n",
    "        h = eye\n",
    "        q = np.dot(q, h.T)\n",
    "        r = np.dot(h, r)\n",
    "    return q, r"
   ]
  },
  {
   "cell_type": "code",
   "execution_count": 6,
   "metadata": {},
   "outputs": [],
   "source": [
    "# Might want to turn this on for prettier printing: zeros instead of `1e-16` etc\n",
    "\n",
    "np.set_printoptions(suppress=True)"
   ]
  },
  {
   "cell_type": "code",
   "execution_count": 7,
   "metadata": {},
   "outputs": [],
   "source": [
    "# Test (marked)\n",
    "\n",
    "rndm = np.random.RandomState(1234)\n",
    "a = rndm.uniform(size=(5, 3))\n",
    "q, r = qr_decomp(a)\n",
    "\n",
    "# test that Q is indeed orthogonal\n",
    "assert_allclose(np.dot(q, q.T), np.eye(5), atol=1e-10)\n",
    "\n",
    "# test the decomposition itself\n",
    "assert_allclose(np.dot(q, r), a)"
   ]
  },
  {
   "cell_type": "markdown",
   "metadata": {},
   "source": [
    "Now compare your decompositions to the library function (which actually wraps the corresponding LAPACK functions)"
   ]
  },
  {
   "cell_type": "code",
   "execution_count": 8,
   "metadata": {},
   "outputs": [],
   "source": [
    "from scipy.linalg import qr\n",
    "qq, rr = qr(a)\n",
    "\n",
    "assert_allclose(np.dot(qq, rr), a)"
   ]
  },
  {
   "cell_type": "markdown",
   "metadata": {},
   "source": [
    "Check if your `q` and `r` agree with `qq` and `rr`. Explain."
   ]
  },
  {
   "cell_type": "markdown",
   "metadata": {},
   "source": [
    "*Enter your explanation here (Russian or English, up to you)*"
   ]
  },
  {
   "cell_type": "markdown",
   "metadata": {},
   "source": [
    "### The results are close"
   ]
  },
  {
   "cell_type": "markdown",
   "metadata": {},
   "source": [
    "### More tests"
   ]
  },
  {
   "cell_type": "code",
   "execution_count": 9,
   "metadata": {},
   "outputs": [
    {
     "name": "stdout",
     "output_type": "stream",
     "text": [
      "CPU times: user 6min 29s, sys: 38.9 s, total: 7min 8s\n",
      "Wall time: 1min 54s\n"
     ]
    }
   ],
   "source": [
    "%%time\n",
    "\n",
    "a = np.random.random(size=(4, 5))\n",
    "q, r = qr_decomp(a)\n",
    "assert_allclose(np.dot(q.T,a), r, atol=1e-10)\n",
    "\n",
    "a = np.random.random(size=(1, 2))\n",
    "q, r = qr_decomp(a)\n",
    "assert_allclose(np.dot(q.T,a), r, atol=1e-10)\n",
    "\n",
    "a = np.random.random(size=(200, 100))\n",
    "q, r = qr_decomp(a)\n",
    "assert_allclose(np.dot(q.T,a), r, atol=1e-10)\n",
    "\n",
    "a = np.random.random(size=(1000, 1000))\n",
    "q, r = qr_decomp(a)\n",
    "assert_allclose(np.dot(q.T,a), r, atol=1e-10)"
   ]
  },
  {
   "cell_type": "markdown",
   "metadata": {},
   "source": [
    "### It works fine"
   ]
  },
  {
   "cell_type": "markdown",
   "metadata": {},
   "source": [
    "# Part III. Avoid forming Householder matrices explicitly."
   ]
  },
  {
   "cell_type": "markdown",
   "metadata": {},
   "source": [
    "Note the special structure of the Householder matrices: A reflector $\\mathbf{H}$ is completely specified by a reflection vector $\\mathbf{u}$. Also note that the computational cost of applying a reflector to a matrix strongly depends on the order of operations:\n",
    "\n",
    "$$\n",
    "\\left( \\mathbf{u} \\mathbf{u}^T \\right) \\mathbf{A}  \\qquad \\textrm{is } O(m^2 n)\\;,\n",
    "$$\n",
    "while\n",
    "$$\n",
    "\\mathbf{u} \\left( \\mathbf{u}^T \\mathbf{A} \\right) \\qquad \\textrm{is } O(mn)\n",
    "$$\n",
    "\n",
    "Thus, it seems to make sense to *avoid* forming the $\\mathbf{H}$ matrices. Instead, one stores the reflection vectors, $\\mathbf{u}$, themselves, and provides a way of multiplying an arbitrary matrix by $\\mathbf{Q}^T$, e.g., as a standalone function (or a class)."
   ]
  },
  {
   "cell_type": "markdown",
   "metadata": {},
   "source": [
    "Write a function which constructs the `QR` decomposition of a matrix *without ever forming the* $\\mathbf{H}$ matrices, and returns the $\\mathbf{R}$ matrix and reflection vectors. Write a second function, which uses the reflection vertices to multiply a matrix with $\\mathbf{Q}^T$. Make sure to include enough comments for a marker to follow your implementation, and add tests."
   ]
  },
  {
   "cell_type": "code",
   "execution_count": 10,
   "metadata": {},
   "outputs": [],
   "source": [
    "def qr_decomp_adv(a):\n",
    "    \"\"\"Compute the QR decomposition of a matrix.\n",
    "\n",
    "        Parameters\n",
    "        ----------\n",
    "        a : ndarray, shape(m, n)\n",
    "            The input matrix\n",
    "\n",
    "        Returns\n",
    "        -------\n",
    "        u_s : list of ndarrays, shape (m,)\n",
    "            List of Householder tranformation reflection planes' normal vectors\n",
    "        r : ndarray, shape(m, n)\n",
    "            The upper triangular matrix\n",
    "    \"\"\"\n",
    "    r = np.array(a, copy=True, dtype=float)\n",
    "    m, n = r.shape    \n",
    "    u_s = []\n",
    "    for i in range(min(n,m)-1):\n",
    "        _, u, _ = householder(r[i:,i])\n",
    "        u = np.insert(u, 0, np.zeros(i))\n",
    "        u_s.append(u)\n",
    "        r -= 2 * np.dot(u.reshape((-1,1)), np.dot(u.reshape((1,-1)), r))\n",
    "    return u_s, r\n",
    "\n",
    "def Q_T_mul(a, u_s):\n",
    "    \"\"\"Compute the matrix product Q_T a,\n",
    "        where a is an arbitrary matrix\n",
    "        and Q_t is a matrix product H_n...H_1,\n",
    "        where H_k is a Householder matrix specified by a reflection vector u_s[k]\n",
    "        \n",
    "        Parameters\n",
    "        ----------\n",
    "        a : ndarray, shape(m, n)\n",
    "            The input matrix\n",
    "        u_s : list of ndarrays, shape (m,)\n",
    "              List of Householder tranformation reflection planes' normal vectors\n",
    "            \n",
    "        Returns\n",
    "        -------\n",
    "        a1 : ndarray, shape (m, n)\n",
    "             Matrix product Q_T a\n",
    "    \"\"\"\n",
    "    a1 = np.copy(a)\n",
    "    for u in u_s:\n",
    "        a1 -= 2 * np.dot(u.reshape((-1,1)), np.dot(u.reshape((1,-1)), a1))\n",
    "    return a1"
   ]
  },
  {
   "cell_type": "markdown",
   "metadata": {},
   "source": [
    "### Tests again"
   ]
  },
  {
   "cell_type": "code",
   "execution_count": 11,
   "metadata": {},
   "outputs": [
    {
     "name": "stdout",
     "output_type": "stream",
     "text": [
      "CPU times: user 49.3 s, sys: 28.8 s, total: 1min 18s\n",
      "Wall time: 22 s\n"
     ]
    }
   ],
   "source": [
    "%%time\n",
    "\n",
    "a = np.random.random(size=(4, 5))\n",
    "u_s, r = qr_decomp_adv(a)\n",
    "assert_allclose(Q_T_mul(a, u_s), r, atol=1e-10)\n",
    "\n",
    "a = np.random.random(size=(1, 2))\n",
    "u_s, r = qr_decomp_adv(a)\n",
    "assert_allclose(Q_T_mul(a, u_s), r, atol=1e-10)\n",
    "\n",
    "a = np.random.random(size=(200, 100))\n",
    "u_s, r = qr_decomp_adv(a)\n",
    "assert_allclose(Q_T_mul(a, u_s), r, atol=1e-10)\n",
    "\n",
    "a = np.random.random(size=(1000, 1000))\n",
    "u_s, r = qr_decomp_adv(a)\n",
    "assert_allclose(Q_T_mul(a, u_s), r, atol=1e-10)"
   ]
  },
  {
   "cell_type": "markdown",
   "metadata": {},
   "source": [
    "### Works faster"
   ]
  }
 ],
 "metadata": {
  "kernelspec": {
   "display_name": "Python 3",
   "language": "python",
   "name": "python3"
  },
  "language_info": {
   "codemirror_mode": {
    "name": "ipython",
    "version": 3
   },
   "file_extension": ".py",
   "mimetype": "text/x-python",
   "name": "python",
   "nbconvert_exporter": "python",
   "pygments_lexer": "ipython3",
   "version": "3.6.7"
  }
 },
 "nbformat": 4,
 "nbformat_minor": 2
}
